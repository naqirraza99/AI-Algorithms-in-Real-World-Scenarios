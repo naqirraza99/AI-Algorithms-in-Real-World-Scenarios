{
  "nbformat": 4,
  "nbformat_minor": 0,
  "metadata": {
    "colab": {
      "provenance": [],
      "authorship_tag": "ABX9TyPCmiaIFW0u9A0UckbhaRCd",
      "include_colab_link": true
    },
    "kernelspec": {
      "name": "python3",
      "display_name": "Python 3"
    },
    "language_info": {
      "name": "python"
    }
  },
  "cells": [
    {
      "cell_type": "markdown",
      "metadata": {
        "id": "view-in-github",
        "colab_type": "text"
      },
      "source": [
        "<a href=\"https://colab.research.google.com/github/naqirraza99/Algorithm-in-Real-World-Scenarios/blob/main/City_Map_Using_BFS%26UCS.ipynb\" target=\"_parent\"><img src=\"https://colab.research.google.com/assets/colab-badge.svg\" alt=\"Open In Colab\"/></a>"
      ]
    },
    {
      "cell_type": "markdown",
      "source": [
        "**1. Data Representation**\n"
      ],
      "metadata": {
        "id": "IWEcsP6iVwLY"
      }
    },
    {
      "cell_type": "markdown",
      "source": [
        "First, we need to represent the map as a data structure. We’ll use a graph where nodes represent locations and edges represent roads with distances.\n",
        "\n",
        "We’ll represent the map of **Pakistan** with 10 cities and the distances between them."
      ],
      "metadata": {
        "id": "GTWiN2JFV43i"
      }
    },
    {
      "cell_type": "code",
      "source": [
        "graph = {\n",
        "    'Karachi': {'Hyderabad': 160, 'Quetta': 690},\n",
        "    'Hyderabad': {'Karachi': 160, 'Sukkur': 300},\n",
        "    'Quetta': {'Karachi': 690, 'Multan': 830},\n",
        "    'Sukkur': {'Hyderabad': 300, 'Multan': 400},\n",
        "    'Multan': {'Quetta': 830, 'Sukkur': 400, 'Lahore': 340},\n",
        "    'Lahore': {'Multan': 340, 'Islamabad': 380},\n",
        "    'Islamabad': {'Lahore': 380, 'Peshawar': 180},\n",
        "    'Peshawar': {'Islamabad': 180, 'Mardan': 60},\n",
        "    'Mardan': {'Peshawar': 60, 'Swat': 110},\n",
        "    'Swat': {'Mardan': 110}\n",
        "}\n"
      ],
      "metadata": {
        "id": "Yii1TrucWExt"
      },
      "execution_count": null,
      "outputs": []
    },
    {
      "cell_type": "markdown",
      "source": [
        "**2. Breadth-First Search (BFS)**"
      ],
      "metadata": {
        "id": "npOSRL0aWLu0"
      }
    },
    {
      "cell_type": "markdown",
      "source": [
        "BFS explores all nodes at the present depth level before moving on to nodes at the next depth level. It is useful for finding the shortest path in an unweighted graph.\n",
        "\n",
        "Here’s the implementation of BFS:"
      ],
      "metadata": {
        "id": "4HegnjwgWT0C"
      }
    },
    {
      "cell_type": "code",
      "source": [
        "from collections import deque\n",
        "\n",
        "def bfs(graph, start, goal):\n",
        "    queue = deque([[start]])\n",
        "    visited = set()\n",
        "\n",
        "    while queue:\n",
        "        path = queue.popleft()\n",
        "        node = path[-1]\n",
        "\n",
        "        if node in visited:\n",
        "            continue\n",
        "\n",
        "        for neighbor in graph[node]:\n",
        "            new_path = list(path)\n",
        "            new_path.append(neighbor)\n",
        "            queue.append(new_path)\n",
        "\n",
        "            if neighbor == goal:\n",
        "                return new_path\n",
        "\n",
        "        visited.add(node)\n",
        "\n",
        "    return None\n",
        "\n",
        "# Example usage\n",
        "start = 'Karachi'\n",
        "goal = 'Swat'\n",
        "bfs_path = bfs(graph, start, goal)\n",
        "print(\"BFS Path:\", bfs_path)\n"
      ],
      "metadata": {
        "id": "7Mjq7gQlWc-D"
      },
      "execution_count": null,
      "outputs": []
    },
    {
      "cell_type": "markdown",
      "source": [
        "**3. Uniform Cost Search (UCS)**\n"
      ],
      "metadata": {
        "id": "0rpRMC-jWqtr"
      }
    },
    {
      "cell_type": "markdown",
      "source": [
        "UCS is similar to BFS but considers the cost of the path. It always expands the least cost node first.\n",
        "\n",
        "Here’s the implementation of UCS:"
      ],
      "metadata": {
        "id": "7XX8H_8RWtCY"
      }
    },
    {
      "cell_type": "code",
      "source": [
        "import heapq\n",
        "\n",
        "def ucs(graph, start, goal):\n",
        "    queue = [(0, [start])]\n",
        "    visited = set()\n",
        "\n",
        "    while queue:\n",
        "        cost, path = heapq.heappop(queue)\n",
        "        node = path[-1]\n",
        "\n",
        "        if node in visited:\n",
        "            continue\n",
        "\n",
        "        if node == goal:\n",
        "            return path, cost\n",
        "\n",
        "        for neighbor, weight in graph[node].items():\n",
        "            new_cost = cost + weight\n",
        "            new_path = list(path)\n",
        "            new_path.append(neighbor)\n",
        "            heapq.heappush(queue, (new_cost, new_path))\n",
        "\n",
        "        visited.add(node)\n",
        "\n",
        "    return None, float('inf')\n",
        "\n",
        "# Example usage\n",
        "ucs_path, ucs_cost = ucs(graph, start, goal)\n",
        "print(\"UCS Path:\", ucs_path, \"with cost:\", ucs_cost)\n"
      ],
      "metadata": {
        "id": "w7xXGhAOW2x6"
      },
      "execution_count": null,
      "outputs": []
    },
    {
      "cell_type": "markdown",
      "source": [
        "**4. Comparison and Analysis**"
      ],
      "metadata": {
        "id": "BxuIdwVfW7dW"
      }
    },
    {
      "cell_type": "markdown",
      "source": [
        "**BFS:**\n",
        "\n",
        "**Path Length:** Finds the shortest path in terms of the number of edges.\n",
        "Time Complexity: (O(V + E)), where (V) is the number of vertices and (E) is the number of edges.\n",
        "\n",
        "**Space Complexity:** (O(V)) for the queue and visited set.\n",
        "\n",
        "\n",
        "**UCS:**\n",
        "\n",
        "**Path Length:** Finds the shortest path in terms of total cost.\n",
        "\n",
        "**Time Complexity:** (O((V + E) \\log V)) due to the priority queue operations.\n",
        "\n",
        "**Space Complexity:** (O(V)) for the priority queue and visited set.\n"
      ],
      "metadata": {
        "id": "m4Ul215UXTDj"
      }
    },
    {
      "cell_type": "markdown",
      "source": [
        "**Advantages and Disadvantages:**"
      ],
      "metadata": {
        "id": "xgFq8pa9X_FJ"
      }
    },
    {
      "cell_type": "markdown",
      "source": [
        "**BFS:** Simple and effective for unweighted graphs. However, it does not consider path costs.\n",
        "\n",
        "**UCS:** Considers path costs, making it suitable for weighted graphs. However, it can be more computationally intensive due to priority queue operations."
      ],
      "metadata": {
        "id": "T1W_HV0HYICG"
      }
    },
    {
      "cell_type": "markdown",
      "source": [
        "**5. Visualization**"
      ],
      "metadata": {
        "id": "_iaXFSLHYNRL"
      }
    },
    {
      "cell_type": "code",
      "source": [
        "import networkx as nx\n",
        "import matplotlib.pyplot as plt\n",
        "\n",
        "def visualize_graph(graph, bfs_path, ucs_path):\n",
        "    G = nx.Graph()\n",
        "\n",
        "    for node, edges in graph.items():\n",
        "        for neighbor, weight in edges.items():\n",
        "            G.add_edge(node, neighbor, weight=weight)\n",
        "\n",
        "    pos = nx.spring_layout(G)\n",
        "    nx.draw(G, pos, with_labels=True, node_color='lightblue', node_size=500, font_size=10)\n",
        "    nx.draw_networkx_edges(G, pos, edgelist=list(zip(bfs_path, bfs_path[1:])), edge_color='r', width=2, label='BFS Path')\n",
        "    nx.draw_networkx_edges(G, pos, edgelist=list(zip(ucs_path, ucs_path[1:])), edge_color='g', width=2, style='dashed', label='UCS Path')\n",
        "\n",
        "    plt.legend()\n",
        "    plt.show()\n",
        "\n",
        "visualize_graph(graph, bfs_path, ucs_path)\n"
      ],
      "metadata": {
        "collapsed": true,
        "id": "DyejP-CMYZfO"
      },
      "execution_count": null,
      "outputs": []
    },
    {
      "cell_type": "markdown",
      "source": [
        "**Complete Code**"
      ],
      "metadata": {
        "id": "EdBgwPVkajLS"
      }
    },
    {
      "cell_type": "code",
      "source": [
        "import heapq\n",
        "from collections import deque\n",
        "import networkx as nx\n",
        "import matplotlib.pyplot as plt\n",
        "\n",
        "# Data Representation\n",
        "graph = {\n",
        "    'Karachi': {'Hyderabad': 160, 'Quetta': 690},\n",
        "    'Hyderabad': {'Karachi': 160, 'Sukkur': 300},\n",
        "    'Quetta': {'Karachi': 690, 'Multan': 830},\n",
        "    'Sukkur': {'Hyderabad': 300, 'Multan': 400},\n",
        "    'Multan': {'Quetta': 830, 'Sukkur': 400, 'Lahore': 340},\n",
        "    'Lahore': {'Multan': 340, 'Islamabad': 380},\n",
        "    'Islamabad': {'Lahore': 380, 'Peshawar': 180},\n",
        "    'Peshawar': {'Islamabad': 180, 'Mardan': 60},\n",
        "    'Mardan': {'Peshawar': 60, 'Swat': 110},\n",
        "    'Swat': {'Mardan': 110}\n",
        "}\n",
        "\n",
        "# BFS Algorithm\n",
        "def bfs(graph, start, goal):\n",
        "    queue = deque([[start]])\n",
        "    visited = set()\n",
        "\n",
        "    while queue:\n",
        "        path = queue.popleft()\n",
        "        node = path[-1]\n",
        "\n",
        "        if node in visited:\n",
        "            continue\n",
        "\n",
        "        for neighbor in graph[node]:\n",
        "            new_path = list(path)\n",
        "            new_path.append(neighbor)\n",
        "            queue.append(new_path)\n",
        "\n",
        "            if neighbor == goal:\n",
        "                return new_path\n",
        "\n",
        "        visited.add(node)\n",
        "\n",
        "    return None\n",
        "\n",
        "# UCS Algorithm\n",
        "def ucs(graph, start, goal):\n",
        "    queue = [(0, [start])]\n",
        "    visited = set()\n",
        "\n",
        "    while queue:\n",
        "        cost, path = heapq.heappop(queue)\n",
        "        node = path[-1]\n",
        "\n",
        "        if node in visited:\n",
        "            continue\n",
        "\n",
        "        if node == goal:\n",
        "            return path, cost\n",
        "\n",
        "        for neighbor, weight in graph[node].items():\n",
        "            new_cost = cost + weight\n",
        "            new_path = list(path)\n",
        "            new_path.append(neighbor)\n",
        "            heapq.heappush(queue, (new_cost, new_path))\n",
        "\n",
        "        visited.add(node)\n",
        "\n",
        "    return None, float('inf')\n",
        "\n",
        "# Example usage\n",
        "start = 'Karachi'\n",
        "goal = 'Swat'\n",
        "bfs_path = bfs(graph, start, goal)\n",
        "ucs_path, ucs_cost = ucs(graph, start, goal)\n",
        "\n",
        "print(\"BFS Path:\", bfs_path)\n",
        "print(\"UCS Path:\", ucs_path, \"with cost:\", ucs_cost)\n",
        "\n",
        "# Visualization\n",
        "def visualize_graph(graph, bfs_path, ucs_path):\n",
        "    G = nx.Graph()\n",
        "\n",
        "    for node, edges in graph.items():\n",
        "        for neighbor, weight in edges.items():\n",
        "            G.add_edge(node, neighbor, weight=weight)\n",
        "\n",
        "    pos = nx.spring_layout(G)\n",
        "    nx.draw(G, pos, with_labels=True, node_color='lightblue', node_size=500, font_size=10)\n",
        "    nx.draw_networkx_edges(G, pos, edgelist=list(zip(bfs_path, bfs_path[1:])), edge_color='r', width=2, label='BFS Path')\n",
        "    nx.draw_networkx_edges(G, pos, edgelist=list(zip(ucs_path, ucs_path[1:])), edge_color='g', width=2, style='dashed', label='UCS Path')\n",
        "\n",
        "    plt.legend()\n",
        "    plt.show()\n",
        "\n",
        "visualize_graph(graph, bfs_path, ucs_path)\n"
      ],
      "metadata": {
        "colab": {
          "base_uri": "https://localhost:8080/",
          "height": 551
        },
        "id": "cXuw0NpZaYIu",
        "outputId": "d56ac5e2-faa6-4c7e-a3fb-d7ddc831aed2"
      },
      "execution_count": 4,
      "outputs": [
        {
          "output_type": "stream",
          "name": "stdout",
          "text": [
            "BFS Path: ['Karachi', 'Quetta', 'Multan', 'Lahore', 'Islamabad', 'Peshawar', 'Mardan', 'Swat']\n",
            "UCS Path: ['Karachi', 'Hyderabad', 'Sukkur', 'Multan', 'Lahore', 'Islamabad', 'Peshawar', 'Mardan', 'Swat'] with cost: 1930\n"
          ]
        },
        {
          "output_type": "display_data",
          "data": {
            "text/plain": [
              "<Figure size 640x480 with 1 Axes>"
            ],
            "image/png": "[encoded data removed]"
          },
          "metadata": {}
        }
      ]
    }
  ]
}